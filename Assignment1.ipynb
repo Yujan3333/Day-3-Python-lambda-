{
 "cells": [
  {
   "cell_type": "code",
   "execution_count": 3,
   "metadata": {},
   "outputs": [
    {
     "ename": "SyntaxError",
     "evalue": "EOL while scanning string literal (<ipython-input-3-3fbab7932830>, line 21)",
     "output_type": "error",
     "traceback": [
      "\u001b[1;36m  File \u001b[1;32m\"<ipython-input-3-3fbab7932830>\"\u001b[1;36m, line \u001b[1;32m21\u001b[0m\n\u001b[1;33m    opt=int(input(\"Please choose option from above))\u001b[0m\n\u001b[1;37m                                                    ^\u001b[0m\n\u001b[1;31mSyntaxError\u001b[0m\u001b[1;31m:\u001b[0m EOL while scanning string literal\n"
     ]
    }
   ],
   "source": [
    "Age=dict()\n",
    "\n",
    "\n",
    "def switch(i):\n",
    "    switcher={\n",
    "                    1: InsertData,\n",
    "                    2: UpdateData,\n",
    "                    3: DeleteData,\n",
    "                    4: ShowData\n",
    "             }\n",
    "    return switcher.get(i,'no option found')\n",
    "\n",
    "    \n",
    "def App(): \n",
    "    while True:\n",
    "        print(\"1.Enter the data:\")\n",
    "        print(\"2.Update the data\")\n",
    "        print(\"3.Delete the data\")\n",
    "        print(\"4.Show the data\")\n",
    "        print(\"Enter 0 to quit\")\n",
    "        opt=int(input(\"Please choose option from above))"
   ]
  },
  {
   "cell_type": "code",
   "execution_count": null,
   "metadata": {},
   "outputs": [],
   "source": []
  }
 ],
 "metadata": {
  "kernelspec": {
   "display_name": "Python 3",
   "language": "python",
   "name": "python3"
  },
  "language_info": {
   "codemirror_mode": {
    "name": "ipython",
    "version": 3
   },
   "file_extension": ".py",
   "mimetype": "text/x-python",
   "name": "python",
   "nbconvert_exporter": "python",
   "pygments_lexer": "ipython3",
   "version": "3.7.4"
  }
 },
 "nbformat": 4,
 "nbformat_minor": 2
}
